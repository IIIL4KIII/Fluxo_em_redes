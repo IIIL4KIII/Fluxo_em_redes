{
 "cells": [
  {
   "cell_type": "code",
   "execution_count": 1,
   "metadata": {},
   "outputs": [],
   "source": [
    "def dijkstra_sem_heap(N, A, c, s):\n",
    "    R = set()       # Conjunto de nós rotulados\n",
    "    NR = set(N)     # Conjunto de nós não-rotulados\n",
    "    d = {i: float('infinity') for i in N}  # Distâncias iniciais como infinito\n",
    "    p = {i: None for i in N}     # Predecessores\n",
    "    \n",
    "    d[s] = 0        # Distância da origem para ela mesma é zero\n",
    "    p[s] = None     # O nó de origem não tem predecessor\n",
    "    \n",
    "    while len(R) < len(N):\n",
    "        # Encontra o nó em NR com menor distância d\n",
    "        min_dist = float('infinity')\n",
    "        i = None\n",
    "        for j in NR:\n",
    "            if d[j] < min_dist:\n",
    "                min_dist = d[j]\n",
    "                i = j\n",
    "        \n",
    "        if i is None:\n",
    "            break  # Não há mais nós alcançáveis\n",
    "        \n",
    "        # Move o nó i de NR para R\n",
    "        R.add(i)\n",
    "        NR.remove(i)\n",
    "        \n",
    "        # Para cada arco (i,j) com j em NR\n",
    "        for (u, v) in A:\n",
    "            if u == i and v in NR:\n",
    "                j = v\n",
    "                # Atualiza a distância se encontrarmos um caminho mais curto\n",
    "                if d[j] > d[i] + c.get((i,j), float('infinity')):\n",
    "                    d[j] = d[i] + c.get((i,j), float('infinity'))\n",
    "                    p[j] = i\n",
    "    \n",
    "    return d, p\n"
   ]
  },
  {
   "cell_type": "code",
   "execution_count": null,
   "metadata": {},
   "outputs": [],
   "source": []
  }
 ],
 "metadata": {
  "kernelspec": {
   "display_name": "Python 3",
   "language": "python",
   "name": "python3"
  },
  "language_info": {
   "codemirror_mode": {
    "name": "ipython",
    "version": 3
   },
   "file_extension": ".py",
   "mimetype": "text/x-python",
   "name": "python",
   "nbconvert_exporter": "python",
   "pygments_lexer": "ipython3",
   "version": "3.13.2"
  }
 },
 "nbformat": 4,
 "nbformat_minor": 2
}
