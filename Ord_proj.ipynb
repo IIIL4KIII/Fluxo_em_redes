{
 "cells": [
  {
   "cell_type": "code",
   "execution_count": 91,
   "id": "b2d4a534",
   "metadata": {},
   "outputs": [],
   "source": [
    "import pandas as pd\n",
    "import matplotlib.pyplot as plt\n",
    "import networkx as nx\n",
    "import math\n",
    "import re"
   ]
  },
  {
   "cell_type": "code",
   "execution_count": 92,
   "id": "985f232e",
   "metadata": {},
   "outputs": [],
   "source": [
    "# === Leitura e pré-processamento dos dados ===\n",
    "def carregar_dados(path):\n",
    "    df = pd.read_csv(path, encoding='latin-1')\n",
    "    colunas_remover = ['Product Image', 'Product Description', 'Order Zipcode', 'Customer Password', 'Customer Email']\n",
    "    df.drop(columns=colunas_remover, inplace=True)\n",
    "    df['order date (DateOrders)'] = pd.to_datetime(df['order date (DateOrders)'], errors='coerce')\n",
    "    df['Date'] = df['order date (DateOrders)'].dt.date\n",
    "    return df"
   ]
  },
  {
   "cell_type": "code",
   "execution_count": 93,
   "id": "4691385e",
   "metadata": {},
   "outputs": [],
   "source": [
    "# === Utilitários para pesos e mapeamentos ===\n",
    "def add_weight_mean(df, group_col, new_col):\n",
    "    df[new_col] = df.groupby(group_col)['Weight'].transform('mean')\n",
    "\n",
    "# def create_mapping(unique_values, prefix='', start=1):\n",
    "#     return {val: f\"{prefix}{i+start}\" if prefix else i+start for i, val in enumerate(unique_values)}\n",
    "\n",
    "def create_weight_dict(df, keys_cols, values_col):\n",
    "    keys = [df[col] for col in keys_cols]\n",
    "    return dict(zip(zip(*keys), df[values_col]))\n"
   ]
  },
  {
   "cell_type": "code",
   "execution_count": 94,
   "id": "6f14a1c3",
   "metadata": {},
   "outputs": [],
   "source": [
    "# === Algoritmo de Bellman-Ford ===\n",
    "def bellman_ford(N, A, c, s):\n",
    "    d = {j: float('inf') for j in N}\n",
    "    p = {j: None for j in N}\n",
    "    d[s] = 0\n",
    "    p[s] = 0\n",
    "\n",
    "    for _ in range(len(N) - 1):\n",
    "        for (i, j) in A:\n",
    "            if d[i] != float('inf') and d[j] > d[i] + c[(i, j)]:\n",
    "                d[j] = d[i] + c[(i, j)]\n",
    "                p[j] = i\n",
    "\n",
    "    # Verificação de ciclo negativo\n",
    "    for (i, j) in A:\n",
    "        if d[i] != float('inf') and d[j] > d[i] + c[(i, j)]:\n",
    "            raise ValueError(\"Ciclo negativo detectado\")\n",
    "\n",
    "    return d, p"
   ]
  },
  {
   "cell_type": "code",
   "execution_count": 95,
   "id": "36ff33f1",
   "metadata": {},
   "outputs": [],
   "source": [
    "def reconstruir_caminho(p, destino):\n",
    "    caminho = []\n",
    "    atual = destino\n",
    "    while atual in p and p[atual] is not None:\n",
    "        caminho.append(atual)\n",
    "        atual = p[atual]\n",
    "    caminho.append(atual)\n",
    "    caminho.reverse()\n",
    "    return caminho\n",
    "\n",
    "def calcular_custo_caminho(caminho, pesos):\n",
    "    return sum(pesos.get((caminho[i], caminho[i+1]), 0) for i in range(len(caminho) - 1))"
   ]
  },
  {
   "cell_type": "code",
   "execution_count": 96,
   "id": "f1e88b01",
   "metadata": {},
   "outputs": [],
   "source": [
    "def r_cycle(arcs_neg):\n",
    "    G = nx.DiGraph()\n",
    "    G.add_weighted_edges_from([(u, v, w) for (u, v), w in arcs_neg.items()])\n",
    "\n",
    "    while True:\n",
    "        try:\n",
    "            cycle = nx.find_cycle(G, orientation='original')\n",
    "            u, v, *_ = cycle[0]\n",
    "            G.remove_edge(u, v)\n",
    "\n",
    "        except nx.NetworkXNoCycle:\n",
    "            break  \n",
    "\n",
    "    return {(u, v): G[u][v]['weight'] for u, v in G.edges()}"
   ]
  },
  {
   "cell_type": "code",
   "execution_count": 97,
   "id": "2bde0a0e",
   "metadata": {},
   "outputs": [],
   "source": [
    "# === Processamento principal ===\n",
    "def processar(df, date_range):\n",
    "    results = {}\n",
    "\n",
    "    for date in date_range:\n",
    "        request = df[df['Date'] == date.date()].copy()\n",
    "\n",
    "        # Cálculo de peso\n",
    "        request['Weight'] = (\n",
    "            request['Order Item Quantity'] * request['Order Profit Per Order']\n",
    "        ) / (\n",
    "            request['Days for shipping (real)'] + \n",
    "            request['Late_delivery_risk'] * request['Days for shipment (scheduled)']\n",
    "        )\n",
    "\n",
    "        # Médias de peso por agrupamento\n",
    "        groupings = {\n",
    "            'Customer City': 'W_city_state_cus',      # Calcula o peso Cidade-Estado       (Customer)\n",
    "            'Customer State': 'W_state_country_cus',  # Calcula o peso Estado-País         (Customer)\n",
    "            'Order Country': 'W_country_country',     # Calcula o peso entre Países        (Customer->Order) \n",
    "            'Order State': 'W_country_state_ord',     # Calcula o peso entre País-Estado   (Order)\n",
    "            'Order City': 'W_state_city_ord',         # Calcula o peso entre Estado-Cidade (Order)\n",
    "        }\n",
    "\n",
    "        for group, new_column in groupings.items():   # Calcula as médias com base nos grupos\n",
    "            add_weight_mean(request, group, new_column)\n",
    "            \n",
    "        # Criação dos arcos\n",
    "        arcs = {}\n",
    "        arcs |= create_weight_dict(request, ['Customer City', 'Customer State'], 'W_city_state_cus')\n",
    "        arcs |= create_weight_dict(request, ['Customer State', 'Customer Country'], 'W_state_country_cus')\n",
    "        arcs |= create_weight_dict(request, ['Customer Country', 'Order Country'], 'W_country_country')\n",
    "        arcs |= create_weight_dict(request, ['Order Country', 'Order State'], 'W_country_state_ord')\n",
    "        arcs |= create_weight_dict(request, ['Order State', 'Order City'], 'W_state_city_ord')\n",
    "\n",
    "\n",
    "        arcs_neg = {k: -v for k, v in arcs.items()}\n",
    "        arcs_neg = r_cycle(arcs_neg)\n",
    "        edges = [(u, v) for (u, v) in arcs_neg if pd.notna(u) and pd.notna(v)]\n",
    "        nodes = set(u for u, v in edges) | set(v for u, v in edges)\n",
    "\n",
    "        greatest_path = {}\n",
    "        for city in request['Customer City'].unique():\n",
    "            d, p = bellman_ford(nodes, edges, arcs_neg, city)\n",
    "            destinos_validos = [n for n in p if n in request['Order City'].values]\n",
    "\n",
    "            melhor_caminho, melhor_custo = [], float('inf')\n",
    "            for destino in destinos_validos:\n",
    "                caminho = reconstruir_caminho(p, destino)\n",
    "                custo = calcular_custo_caminho(caminho, arcs_neg)\n",
    "                if custo < melhor_custo:\n",
    "                    melhor_caminho, melhor_custo = caminho, custo\n",
    "\n",
    "            greatest_path[city] = [melhor_caminho, melhor_custo]\n",
    "\n",
    "        # Filtra caminhos cujo custo é finito\n",
    "        valid_paths = {k: v for k, v in greatest_path.items() if math.isfinite(v[1])}\n",
    "\n",
    "        # Verifica se há algum válido\n",
    "        optimal_sol = min(valid_paths, key=lambda k: valid_paths[k][1]) if valid_paths else None\n",
    "\n",
    "        # cidade_otima = min(greatest_path, key=lambda k: greatest_path[k][1])\n",
    "        results[date] = greatest_path[optimal_sol] if optimal_sol else None\n",
    "\n",
    "    return results"
   ]
  },
  {
   "cell_type": "code",
   "execution_count": 98,
   "id": "2c4702fb",
   "metadata": {},
   "outputs": [
    {
     "name": "stdout",
     "output_type": "stream",
     "text": [
      "2017-01-16 00:00:00\n",
      "[[0, 'Columbia', 'MO', 'EE. UU.', 'Israel', 'Tel Aviv', 'Ramat Aviv'], 999.9285944767857]\n"
     ]
    }
   ],
   "source": [
    "# === Execução ===\n",
    "df = carregar_dados('dataco.csv')\n",
    "intervalo_datas = pd.date_range(start='2017-01-01', periods=30)\n",
    "results = processar(df, intervalo_datas)\n",
    "\n",
    "# Filtra resultados válidos (que não são None)\n",
    "results = {k: v for k, v in results.items() if v is not None and math.isfinite(v[1])}\n",
    "[results.update({k: [v[0], abs(v[1])]}) for k, v in results.items() if isinstance(v[1], (int, float))]\n",
    "\n",
    "if results:\n",
    "    best_day = max(results, key=lambda k: results[k][1])\n",
    "    print(best_day)\n",
    "    print(results[best_day])\n",
    "else:\n",
    "    print(\"Nenhum resultado válido encontrado.\")\n"
   ]
  }
 ],
 "metadata": {
  "kernelspec": {
   "display_name": "Python 3",
   "language": "python",
   "name": "python3"
  },
  "language_info": {
   "codemirror_mode": {
    "name": "ipython",
    "version": 3
   },
   "file_extension": ".py",
   "mimetype": "text/x-python",
   "name": "python",
   "nbconvert_exporter": "python",
   "pygments_lexer": "ipython3",
   "version": "3.12.4"
  }
 },
 "nbformat": 4,
 "nbformat_minor": 5
}
