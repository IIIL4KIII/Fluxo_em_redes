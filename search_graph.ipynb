{
 "cells": [
  {
   "cell_type": "markdown",
   "metadata": {},
   "source": [
    "# Busca em grafo\n",
    "\n",
    "Usaremos a ideia de nós marcados e nós desmarcados. Um nó $(i,j)$ é admissível se o nó $i$ está marcado e o nó $j$ está desmarcado. Caso contrário, o arco é dito inadmissível. Vamos utilizar a ideia de corte s-t. "
   ]
  },
  {
   "cell_type": "code",
   "execution_count": 1,
   "metadata": {},
   "outputs": [],
   "source": [
    "def search(N, A, s):\n",
    "    mark = [False] * len(N)  # Vetor para nós mark\n",
    "    info = [(-1, -1)] * len(N)  # Vetor de tuplas (predecessor, ordem)\n",
    "    \n",
    "    mark[s - 1] = True\n",
    "    info[s - 1] = (0, s)  # O próprio nó é seu predecessor no início\n",
    "    next_ord = s + 1\n",
    "    LIST = [s]\n",
    "    \n",
    "    # Processamento (Vamos implementar a busca em largura, ou seja, vamos utilizar uma fila.)\n",
    "    while LIST:\n",
    "        i = LIST.pop(0)  # Seleciona um nó de LIST\n",
    "        \n",
    "        for (u, v) in A:  # Percorre as arestas\n",
    "            if u == i and not mark[v - 1]:  # Se (i, j) é um arco admissível\n",
    "                mark[v - 1] = True\n",
    "                info[v - 1] = (i, next_ord)\n",
    "                next_ord += 1\n",
    "                LIST.append(v)\n",
    "    \n",
    "    return info  # Retorna as tuplas (predecessor, ordem)"
   ]
  },
  {
   "cell_type": "code",
   "execution_count": 11,
   "metadata": {},
   "outputs": [
    {
     "name": "stdout",
     "output_type": "stream",
     "text": [
      "[(1, 2), (1, 3), (2, 4), (2, 5), (4, 6)]\n"
     ]
    }
   ],
   "source": [
    "N = [1,2,3,4,5,6]\n",
    "A = [(1,2),(1,3),(2,3),(2,4),(2,5),(3,5),(4,5),(4,6),(5,6)]\n",
    "s = 1\n",
    "val = search(N, A, s)\n",
    "print(val[1:])"
   ]
  },
  {
   "cell_type": "code",
   "execution_count": 8,
   "metadata": {},
   "outputs": [],
   "source": [
    "import networkx as nx\n",
    "import matplotlib.pyplot as plt"
   ]
  },
  {
   "cell_type": "code",
   "execution_count": 15,
   "metadata": {},
   "outputs": [
    {
     "data": {
      "image/png": "[encoded data removed]",
      "text/plain": [
       "<Figure size 640x480 with 1 Axes>"
      ]
     },
     "metadata": {},
     "output_type": "display_data"
    }
   ],
   "source": [
    "G = nx.DiGraph()\n",
    "G.add_edges_from(val[1:])\n",
    "\n",
    "nx.draw_planar(G, with_labels=True)\n",
    "plt.show()"
   ]
  }
 ],
 "metadata": {
  "kernelspec": {
   "display_name": "Python 3",
   "language": "python",
   "name": "python3"
  },
  "language_info": {
   "codemirror_mode": {
    "name": "ipython",
    "version": 3
   },
   "file_extension": ".py",
   "mimetype": "text/x-python",
   "name": "python",
   "nbconvert_exporter": "python",
   "pygments_lexer": "ipython3",
   "version": "3.13.2"
  }
 },
 "nbformat": 4,
 "nbformat_minor": 2
}
